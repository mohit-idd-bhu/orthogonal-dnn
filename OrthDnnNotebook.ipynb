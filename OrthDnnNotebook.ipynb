{
 "cells": [
  {
   "cell_type": "markdown",
   "metadata": {
    "id": "sHhs03PmR8ww"
   },
   "source": [
    "# ODNN"
   ]
  },
  {
   "cell_type": "markdown",
   "metadata": {
    "id": "dbiGj3LbWFW4"
   },
   "source": [
    "## Loading Libraries"
   ]
  },
  {
   "cell_type": "code",
   "execution_count": 1,
   "metadata": {
    "id": "waeJToFpp2zb"
   },
   "outputs": [],
   "source": [
    "import numpy as np\n",
    "import pandas as pd\n",
    "import matplotlib.pyplot as plt\n",
    "from sklearn.datasets import load_digits\n",
    "import torch\n",
    "import torch.nn as nn\n",
    "from sklearn import preprocessing\n",
    "from sklearn.model_selection import train_test_split\n",
    "from torchvision import datasets,transforms\n",
    "from sklearn.metrics import confusion_matrix\n",
    "import seaborn as sns\n",
    "from sklearn import metrics"
   ]
  },
  {
   "cell_type": "markdown",
   "metadata": {
    "id": "lBVSikBeSDco"
   },
   "source": [
    "## Data Loading"
   ]
  },
  {
   "cell_type": "code",
   "execution_count": 2,
   "metadata": {
    "colab": {
     "base_uri": "https://localhost:8080/",
     "height": 100,
     "referenced_widgets": [
      "ac8db4f45dfe49c3b2ce2ccd47b560e9",
      "cb83d1f728e14eb5a22fa3c8055435ec",
      "bff8239c3a0840a3adadd8305d77f748",
      "4177b3e737324842b2b34ff1b9c021ee",
      "b0c1482e66ac4133a65e521a2c0ae7b4",
      "679ab1910fbb49f783ce6231f9a97e26",
      "cfe0d35178234ad48386c5c6d4f83d95",
      "ccab25db62a14e4fb7fae5cfda9b95b6",
      "7fd8016fa1844e89af8d73d520f6f5ab",
      "10e8f861729a4467bcc1120ef95dba88",
      "1f75f81a7c2843869b2aa82b04e90a04"
     ]
    },
    "id": "0Yr9qRWnqQEc",
    "outputId": "e877d6e5-87bf-4423-b595-e0366ed393ac"
   },
   "outputs": [
    {
     "name": "stdout",
     "output_type": "stream",
     "text": [
      "Files already downloaded and verified\n",
      "Files already downloaded and verified\n"
     ]
    }
   ],
   "source": [
    "transform = transforms.ToTensor()\n",
    "trainset  = datasets.CIFAR10('root', download=True, train=True, transform=transform)\n",
    "valset    = datasets.CIFAR10('root', download=True, train=False, transform=transform)"
   ]
  },
  {
   "cell_type": "code",
   "execution_count": 3,
   "metadata": {
    "colab": {
     "base_uri": "https://localhost:8080/"
    },
    "id": "Y_5go907qZij",
    "outputId": "b0ad6536-adcf-43f7-856c-0bf639f9d629"
   },
   "outputs": [
    {
     "name": "stdout",
     "output_type": "stream",
     "text": [
      "Using cpu device\n"
     ]
    }
   ],
   "source": [
    "device = \"cuda\" if torch.cuda.is_available() else \"cpu\"\n",
    "print(\"Using {} device\".format(device))"
   ]
  },
  {
   "cell_type": "code",
   "execution_count": 4,
   "metadata": {
    "id": "LcU9OrmVhT8w"
   },
   "outputs": [],
   "source": [
    "trainloader = torch.utils.data.DataLoader(trainset, batch_size=128, shuffle=True)\n",
    "valloader = torch.utils.data.DataLoader(valset, batch_size=28, shuffle=True)"
   ]
  },
  {
   "cell_type": "markdown",
   "metadata": {
    "id": "BsjFOGBHWRaV"
   },
   "source": [
    "**Dataloaders** are used to store data in mini-batches with *(batch,x,y)* as tuple objects"
   ]
  },
  {
   "cell_type": "code",
   "execution_count": 5,
   "metadata": {
    "colab": {
     "base_uri": "https://localhost:8080/"
    },
    "id": "BIvQdig-rnrz",
    "outputId": "c262a8c2-76c9-4a83-832b-68b564d62d04"
   },
   "outputs": [
    {
     "name": "stdout",
     "output_type": "stream",
     "text": [
      "torch.Size([128, 3, 32, 32])\n",
      "torch.Size([128])\n"
     ]
    }
   ],
   "source": [
    "dataiter=iter(trainloader)\n",
    "images,labels=dataiter.next()\n",
    "print(images.shape)\n",
    "print(labels.shape)"
   ]
  },
  {
   "cell_type": "markdown",
   "metadata": {
    "id": "rd8bTbXzXHC3"
   },
   "source": [
    "*    ***Images size***: 128(batch size), 3(no of channels-RGB), 32*32(Image dimensions)\n",
    "*    ***Labels size*** : 128(batch size)"
   ]
  },
  {
   "cell_type": "code",
   "execution_count": 6,
   "metadata": {
    "id": "eaNdGx51r0fp"
   },
   "outputs": [],
   "source": [
    "n=images.shape[1]*images.shape[2]*images.shape[3]\n",
    "m=len(trainset)\n",
    "m_test=len(valset)"
   ]
  },
  {
   "cell_type": "markdown",
   "metadata": {
    "id": "mjlZZA2mR2dQ"
   },
   "source": [
    "## Model"
   ]
  },
  {
   "cell_type": "code",
   "execution_count": 7,
   "metadata": {
    "id": "RNn0RQtlqZPX"
   },
   "outputs": [],
   "source": [
    "import torch.nn.functional as F\n",
    "class ConvBlock(nn.Module):\n",
    "    '''Pre-activation version of the BasicBlock.'''\n",
    "\n",
    "    def __init__(self, in_planes, planes, stride=1):\n",
    "        super(ConvBlock, self).__init__()\n",
    "        self.bn1 = nn.BatchNorm2d(in_planes)\n",
    "        self.conv1 = nn.Conv2d(in_planes, planes, kernel_size=3, stride=stride, padding=1, bias=True)\n",
    "        self.bn2 = nn.BatchNorm2d(planes)\n",
    "        self.conv2 = nn.Conv2d(planes, planes, kernel_size=3, stride=1, padding=1, bias=True)\n",
    "\n",
    "    def forward(self, x):\n",
    "        out = self.bn1(x)\n",
    "        out = self.conv1(F.relu(out))\n",
    "        out = self.bn2(out)\n",
    "        out = self.conv2(F.relu(out))\n",
    "        return out\n",
    "\n",
    "class ConvNet_CIFAR(nn.Module):\n",
    "    def __init__(self, block, num_blocks, num_classes=10):\n",
    "        super(ConvNet_CIFAR, self).__init__()\n",
    "        self.in_planes = 16\n",
    "\n",
    "        self.conv0 = nn.Conv2d(3, 16, kernel_size=3, stride=1, padding=1, bias=True)\n",
    "        self.layer1 = self._make_layer(block, 16, num_blocks[0], stride=1)\n",
    "        self.layer2 = self._make_layer(block, 32, num_blocks[1], stride=2)\n",
    "        self.layer3 = self._make_layer(block, 64, num_blocks[2], stride=2)\n",
    "        self.last_act = nn.Sequential(nn.BatchNorm2d(64), nn.ReLU(inplace=True))\n",
    "        self.linear = nn.Linear(64, num_classes)\n",
    "\n",
    "    def _make_layer(self, block, planes, num_blocks, stride):\n",
    "        strides = [stride] + [1]*(num_blocks-1)\n",
    "        layers = []\n",
    "        for stride in strides:\n",
    "            layers.append(block(self.in_planes, planes, stride))\n",
    "            self.in_planes = planes\n",
    "        return nn.Sequential(*layers)\n",
    "\n",
    "    def forward(self, x):\n",
    "        out = self.conv0(x)\n",
    "        out = self.layer1(out)\n",
    "        out = self.layer2(out)\n",
    "        out = self.layer3(out)\n",
    "        out = self.last_act(out)\n",
    "        out = F.avg_pool2d(out, 8)\n",
    "        out = out.view(out.size(0), -1)\n",
    "        out = self.linear(out)\n",
    "        return out\n",
    "\n",
    "\n",
    "def ConvNet20():\n",
    "    return ConvNet_CIFAR(ConvBlock, [3,3,3], 10)"
   ]
  },
  {
   "cell_type": "markdown",
   "metadata": {
    "id": "wLRsrwIeSKFX"
   },
   "source": [
    "## Hyper Parameter Setting"
   ]
  },
  {
   "cell_type": "code",
   "execution_count": 8,
   "metadata": {
    "colab": {
     "base_uri": "https://localhost:8080/"
    },
    "id": "3FsAEBDINJwQ",
    "outputId": "c17d8333-9915-4331-9b1d-e765b968770d"
   },
   "outputs": [
    {
     "name": "stdout",
     "output_type": "stream",
     "text": [
      "ConvNet_CIFAR(\n",
      "  (conv0): Conv2d(3, 16, kernel_size=(3, 3), stride=(1, 1), padding=(1, 1))\n",
      "  (layer1): Sequential(\n",
      "    (0): ConvBlock(\n",
      "      (bn1): BatchNorm2d(16, eps=1e-05, momentum=0.1, affine=True, track_running_stats=True)\n",
      "      (conv1): Conv2d(16, 16, kernel_size=(3, 3), stride=(1, 1), padding=(1, 1))\n",
      "      (bn2): BatchNorm2d(16, eps=1e-05, momentum=0.1, affine=True, track_running_stats=True)\n",
      "      (conv2): Conv2d(16, 16, kernel_size=(3, 3), stride=(1, 1), padding=(1, 1))\n",
      "    )\n",
      "    (1): ConvBlock(\n",
      "      (bn1): BatchNorm2d(16, eps=1e-05, momentum=0.1, affine=True, track_running_stats=True)\n",
      "      (conv1): Conv2d(16, 16, kernel_size=(3, 3), stride=(1, 1), padding=(1, 1))\n",
      "      (bn2): BatchNorm2d(16, eps=1e-05, momentum=0.1, affine=True, track_running_stats=True)\n",
      "      (conv2): Conv2d(16, 16, kernel_size=(3, 3), stride=(1, 1), padding=(1, 1))\n",
      "    )\n",
      "    (2): ConvBlock(\n",
      "      (bn1): BatchNorm2d(16, eps=1e-05, momentum=0.1, affine=True, track_running_stats=True)\n",
      "      (conv1): Conv2d(16, 16, kernel_size=(3, 3), stride=(1, 1), padding=(1, 1))\n",
      "      (bn2): BatchNorm2d(16, eps=1e-05, momentum=0.1, affine=True, track_running_stats=True)\n",
      "      (conv2): Conv2d(16, 16, kernel_size=(3, 3), stride=(1, 1), padding=(1, 1))\n",
      "    )\n",
      "  )\n",
      "  (layer2): Sequential(\n",
      "    (0): ConvBlock(\n",
      "      (bn1): BatchNorm2d(16, eps=1e-05, momentum=0.1, affine=True, track_running_stats=True)\n",
      "      (conv1): Conv2d(16, 32, kernel_size=(3, 3), stride=(2, 2), padding=(1, 1))\n",
      "      (bn2): BatchNorm2d(32, eps=1e-05, momentum=0.1, affine=True, track_running_stats=True)\n",
      "      (conv2): Conv2d(32, 32, kernel_size=(3, 3), stride=(1, 1), padding=(1, 1))\n",
      "    )\n",
      "    (1): ConvBlock(\n",
      "      (bn1): BatchNorm2d(32, eps=1e-05, momentum=0.1, affine=True, track_running_stats=True)\n",
      "      (conv1): Conv2d(32, 32, kernel_size=(3, 3), stride=(1, 1), padding=(1, 1))\n",
      "      (bn2): BatchNorm2d(32, eps=1e-05, momentum=0.1, affine=True, track_running_stats=True)\n",
      "      (conv2): Conv2d(32, 32, kernel_size=(3, 3), stride=(1, 1), padding=(1, 1))\n",
      "    )\n",
      "    (2): ConvBlock(\n",
      "      (bn1): BatchNorm2d(32, eps=1e-05, momentum=0.1, affine=True, track_running_stats=True)\n",
      "      (conv1): Conv2d(32, 32, kernel_size=(3, 3), stride=(1, 1), padding=(1, 1))\n",
      "      (bn2): BatchNorm2d(32, eps=1e-05, momentum=0.1, affine=True, track_running_stats=True)\n",
      "      (conv2): Conv2d(32, 32, kernel_size=(3, 3), stride=(1, 1), padding=(1, 1))\n",
      "    )\n",
      "  )\n",
      "  (layer3): Sequential(\n",
      "    (0): ConvBlock(\n",
      "      (bn1): BatchNorm2d(32, eps=1e-05, momentum=0.1, affine=True, track_running_stats=True)\n",
      "      (conv1): Conv2d(32, 64, kernel_size=(3, 3), stride=(2, 2), padding=(1, 1))\n",
      "      (bn2): BatchNorm2d(64, eps=1e-05, momentum=0.1, affine=True, track_running_stats=True)\n",
      "      (conv2): Conv2d(64, 64, kernel_size=(3, 3), stride=(1, 1), padding=(1, 1))\n",
      "    )\n",
      "    (1): ConvBlock(\n",
      "      (bn1): BatchNorm2d(64, eps=1e-05, momentum=0.1, affine=True, track_running_stats=True)\n",
      "      (conv1): Conv2d(64, 64, kernel_size=(3, 3), stride=(1, 1), padding=(1, 1))\n",
      "      (bn2): BatchNorm2d(64, eps=1e-05, momentum=0.1, affine=True, track_running_stats=True)\n",
      "      (conv2): Conv2d(64, 64, kernel_size=(3, 3), stride=(1, 1), padding=(1, 1))\n",
      "    )\n",
      "    (2): ConvBlock(\n",
      "      (bn1): BatchNorm2d(64, eps=1e-05, momentum=0.1, affine=True, track_running_stats=True)\n",
      "      (conv1): Conv2d(64, 64, kernel_size=(3, 3), stride=(1, 1), padding=(1, 1))\n",
      "      (bn2): BatchNorm2d(64, eps=1e-05, momentum=0.1, affine=True, track_running_stats=True)\n",
      "      (conv2): Conv2d(64, 64, kernel_size=(3, 3), stride=(1, 1), padding=(1, 1))\n",
      "    )\n",
      "  )\n",
      "  (last_act): Sequential(\n",
      "    (0): BatchNorm2d(64, eps=1e-05, momentum=0.1, affine=True, track_running_stats=True)\n",
      "    (1): ReLU(inplace=True)\n",
      "  )\n",
      "  (linear): Linear(in_features=64, out_features=10, bias=True)\n",
      ")\n"
     ]
    }
   ],
   "source": [
    "def load_model():\n",
    "    return ConvNet20().to(device)\n",
    "print(load_model())"
   ]
  },
  {
   "cell_type": "markdown",
   "metadata": {
    "id": "CZfDvr3xfDIa"
   },
   "source": [
    "**Hyperparameters**<br>\n",
    "\n",
    "\n",
    "*   ***Lembda*** : regularisation constant (Used to increase orthogonality)\n",
    "*   ***Optimizer*** : Stochastic Gradient Descent(SGD)\n",
    "*   ***Learning rate scheduler*** : vary learning rate over epochs\n",
    "\n",
    "\n",
    "\n"
   ]
  },
  {
   "cell_type": "markdown",
   "metadata": {
    "id": "1SZXZvLiSPnE"
   },
   "source": [
    "## Loss Function"
   ]
  },
  {
   "cell_type": "code",
   "execution_count": 9,
   "metadata": {
    "id": "3CYt3DRoOQNA"
   },
   "outputs": [],
   "source": [
    "def loss_fn(model,output,y):\n",
    "    l=nn.CrossEntropyLoss()\n",
    "    extra_norm=0\n",
    "    for m in model.modules():\n",
    "        if isinstance(m,nn.Linear) or isinstance(m,nn.Conv2d):\n",
    "            tmp=m.weight.view(m.weight.data.size(0), -1) \n",
    "            \"\"\"Converts 4-d filter tensor to 2-d tensor which represents \n",
    "            linear operation of convolution and does not effect 2-d linear matrix\"\"\"\n",
    "\n",
    "            s1,s2=tmp.shape # For unequal matrices semi orthogonal condition is imposed\n",
    "\n",
    "            if s1<s2:\n",
    "                extra_norm+=torch.norm(torch.mm(tmp,tmp.t())-torch.eye(s1).to(device),p='fro')\n",
    "            else:\n",
    "                extra_norm+=torch.norm(torch.mm(tmp.t(),tmp)-torch.eye(s2).to(device),p='fro')\n",
    "\n",
    "    loss=l(output,y)+lembda/2*extra_norm #norm loss is added to original loss\n",
    "    return loss"
   ]
  },
  {
   "cell_type": "markdown",
   "metadata": {
    "id": "4ZEXSuW3gM54"
   },
   "source": [
    "**Loss function** : Used to introduce Orthogonality constraints in network.<br>\n",
    "**Total Loss** = Normal Loss + Extra Norm Loss<br>\n",
    "**Normal Loss**= Cross Entropy Loss(For Classification) or MSE (Regression)<br>\n",
    "**Extra Norm Loss** = lemda*|| Wt.W-I || for orthogonality"
   ]
  },
  {
   "cell_type": "markdown",
   "metadata": {
    "id": "Z_244XXUSVXr"
   },
   "source": [
    "## Training Module"
   ]
  },
  {
   "cell_type": "markdown",
   "metadata": {
    "id": "2jRR7HkmhzIW"
   },
   "source": [
    "Mini batch gradient descent is performed"
   ]
  },
  {
   "cell_type": "code",
   "execution_count": 10,
   "metadata": {
    "id": "oJriQfB8sCzM"
   },
   "outputs": [],
   "source": [
    "def train(data,model,optimizer):\n",
    "    running_loss,running_accuracy=0,0\n",
    "    for batch,(x,y) in enumerate(data):\n",
    "        x, y = x.to(device), y.to(device)\n",
    "        output=model(x.float())\n",
    "        loss=loss_fn(model,output,y) \n",
    "\n",
    "        optimizer.zero_grad()\n",
    "        loss.backward()\n",
    "        optimizer.step()\n",
    "\n",
    "        with torch.no_grad(): # Calculating Training Accuracy\n",
    "            running_loss+=loss.item()*(x.shape[0])\n",
    "            running_accuracy+=torch.sum(y==torch.argmax(output,dim=1)).item()\n",
    "\n",
    "    return running_loss,running_accuracy"
   ]
  },
  {
   "cell_type": "markdown",
   "metadata": {
    "id": "yAHEljunSZLl"
   },
   "source": [
    "## Validation Module"
   ]
  },
  {
   "cell_type": "code",
   "execution_count": 11,
   "metadata": {
    "id": "RXIYp96rLAIQ"
   },
   "outputs": [],
   "source": [
    "def validate(model,data):\n",
    "    running_accuracy=0\n",
    "    for b,(x,y) in enumerate(data):\n",
    "        x, y =x.to(device), y.to(device)\n",
    "        output=model(x.float())\n",
    "        running_accuracy+=torch.sum(y==torch.argmax(output,dim=1)).item()\n",
    "    return running_accuracy"
   ]
  },
  {
   "cell_type": "markdown",
   "metadata": {
    "id": "GItBKLh8SdqT"
   },
   "source": [
    "## Model Training"
   ]
  },
  {
   "cell_type": "code",
   "execution_count": 12,
   "metadata": {
    "id": "-rrTkx2qxyjo"
   },
   "outputs": [],
   "source": [
    "loss_curves=[] #For Loss curve data storage\n",
    "train_curves=[] #For Accuracy curve data storage\n",
    "val_curves=[] #For validation accuracy curve data storage\n",
    "models=[] #for model storage"
   ]
  },
  {
   "cell_type": "code",
   "execution_count": 13,
   "metadata": {
    "colab": {
     "base_uri": "https://localhost:8080/"
    },
    "id": "hBn3ClvOsW4D",
    "outputId": "3288182b-a4e4-41da-a3dc-70237479d4f1"
   },
   "outputs": [
    {
     "name": "stdout",
     "output_type": "stream",
     "text": [
      "Training Started For Lambda = 0.0 \n",
      "--------------------------\n",
      "\tEpoch 1\n",
      "\tLoss: 1.9848776702499389\n",
      "\tTrain Accuracy 0.24894 Validation Accuracy 0.3206\n",
      "Done!\n"
     ]
    }
   ],
   "source": [
    "lembdas=[0.,0.01,0.05,0.1] #Set Values for lambda to be tested\n",
    "for lembda in lembdas:\n",
    "\n",
    "    model=load_model() #Loading Model\n",
    "    optimizer=torch.optim.SGD(model.parameters(),lr=0.01) #Setting Model Parameters\n",
    "    lr_scheduler=torch.optim.lr_scheduler.StepLR(optimizer,2,0.94406)\n",
    "    epochs = 100\n",
    "    loss_dnn=np.zeros(0)\n",
    "    val_dnn=np.zeros(0)\n",
    "    accuracy_dnn=np.zeros(0)\n",
    "\n",
    "    print(\"Training Started For Lambda =\",lembda,\"\\n--------------------------\")\n",
    "\n",
    "    for t in range(epochs):\n",
    "        epoch_loss,epoch_accuracy=train(trainloader, model, optimizer) #Training performed\n",
    "        epoch_loss/=m\n",
    "        epoch_accuracy/=m\n",
    "\n",
    "        with torch.no_grad():\n",
    "            val_dnn=np.append(val_dnn,validate(model,valloader)/m_test) #Validation performed\n",
    "            loss_dnn=np.append(loss_dnn,epoch_loss)\n",
    "            accuracy_dnn=np.append(accuracy_dnn,epoch_accuracy)\n",
    "            lr_scheduler.step() #Learning rate modified\n",
    "\n",
    "        print(f\"\\tEpoch {t+1}\")\n",
    "        print(\"\\tLoss:\",epoch_loss)\n",
    "        print(\"\\tTrain Accuracy\",epoch_accuracy,\"Validation Accuracy\",val_dnn[-1])\n",
    "\n",
    "    loss_curves.append(loss_dnn)\n",
    "    val_curves.append(val_dnn)\n",
    "    train_curves.append(accuracy_dnn)\n",
    "    models.append(model)\n",
    "\n",
    "print(\"Done!\")"
   ]
  },
  {
   "cell_type": "markdown",
   "metadata": {
    "id": "u4fqa_U_WCXF"
   },
   "source": [
    "## Analysis"
   ]
  },
  {
   "cell_type": "code",
   "execution_count": 14,
   "metadata": {
    "colab": {
     "base_uri": "https://localhost:8080/",
     "height": 312
    },
    "id": "XhMaZNqSjELZ",
    "outputId": "344c344e-7b09-42d1-d85a-560fa16ca45a"
   },
   "outputs": [
    {
     "data": {
      "text/plain": [
       "Text(0.5, 1.0, 'Loss Curve Comparison for different λ')"
      ]
     },
     "execution_count": 14,
     "metadata": {},
     "output_type": "execute_result"
    },
    {
     "data": {
      "image/png": "[encoded data removed]",
      "text/plain": [
       "<Figure size 432x288 with 1 Axes>"
      ]
     },
     "metadata": {
      "needs_background": "light"
     },
     "output_type": "display_data"
    }
   ],
   "source": [
    "for i in range(len(lembdas)):\n",
    "    my_label=\"For \\u03BB = \"+str(lembdas[i])\n",
    "    plt.plot(loss_curves[i],label=my_label)\n",
    "plt.legend()\n",
    "plt.grid()\n",
    "plt.ylabel('Loss Curve Value')\n",
    "plt.xlabel('Number of Epochs')\n",
    "plt.title('Loss Curve Comparison for different \\u03BB')"
   ]
  },
  {
   "cell_type": "code",
   "execution_count": 15,
   "metadata": {
    "colab": {
     "base_uri": "https://localhost:8080/",
     "height": 312
    },
    "id": "6zT5XJbFjYhG",
    "outputId": "c5e373e0-b37c-4e2d-f4d7-d5f54cf68b27"
   },
   "outputs": [
    {
     "data": {
      "text/plain": [
       "Text(0.5, 1.0, 'Training Accuracy Comparison for different λ')"
      ]
     },
     "execution_count": 15,
     "metadata": {},
     "output_type": "execute_result"
    },
    {
     "data": {
      "image/png": "[encoded data removed]",
      "text/plain": [
       "<Figure size 432x288 with 1 Axes>"
      ]
     },
     "metadata": {
      "needs_background": "light"
     },
     "output_type": "display_data"
    }
   ],
   "source": [
    "for i in range(len(lembdas)):\n",
    "    my_label=\"For \\u03BB = \"+str(lembdas[i])\n",
    "    plt.plot(train_curves[i],label=my_label)\n",
    "plt.legend()\n",
    "plt.grid()\n",
    "plt.ylabel('Training Accuracy Value')\n",
    "plt.xlabel('Number of Epochs')\n",
    "plt.title('Training Accuracy Comparison for different \\u03BB')"
   ]
  },
  {
   "cell_type": "code",
   "execution_count": 16,
   "metadata": {
    "colab": {
     "base_uri": "https://localhost:8080/",
     "height": 312
    },
    "id": "SCY4qYIEjjox",
    "outputId": "1a418929-a514-4017-8804-16e8900fd720"
   },
   "outputs": [
    {
     "data": {
      "text/plain": [
       "Text(0.5, 1.0, 'Validation Accuracy Comparison for different λ')"
      ]
     },
     "execution_count": 16,
     "metadata": {},
     "output_type": "execute_result"
    },
    {
     "data": {
      "image/png": "[encoded data removed]",
      "text/plain": [
       "<Figure size 432x288 with 1 Axes>"
      ]
     },
     "metadata": {
      "needs_background": "light"
     },
     "output_type": "display_data"
    }
   ],
   "source": [
    "for i in range(len(lembdas)):\n",
    "    my_label=\"For \\u03BB = \"+str(lembdas[i])\n",
    "    plt.plot(val_curves[i],label=my_label)\n",
    "plt.legend()\n",
    "plt.grid()\n",
    "plt.ylabel('Validation Accuracy Value')\n",
    "plt.xlabel('Number of Epochs')\n",
    "plt.title('Validation Accuracy Comparison for different \\u03BB')"
   ]
  },
  {
   "cell_type": "markdown",
   "metadata": {
    "id": "4GjKPpvnT-82"
   },
   "source": [
    "## Confusion Matrix Print"
   ]
  },
  {
   "cell_type": "code",
   "execution_count": 17,
   "metadata": {
    "id": "0ctdDNRpUBKv"
   },
   "outputs": [],
   "source": [
    "def generate_matrix(model,data):\n",
    "    y_real=torch.zeros(0)\n",
    "    y_pred=torch.zeros(0)\n",
    "    y_proba=torch.zeros(0)\n",
    "    for b,(x,y) in enumerate(data):\n",
    "        x, y =x.to(device), y.to(device)\n",
    "        output=model(x.float())\n",
    "        y_real=torch.cat((y_real,y.cpu()),0)\n",
    "        y_pred=torch.cat((y_pred,torch.argmax(output,dim=1).cpu()),0)\n",
    "        y_proba=torch.cat((y_proba,output.cpu()),0)\n",
    "    return y_real,y_pred,y_proba"
   ]
  },
  {
   "cell_type": "code",
   "execution_count": 18,
   "metadata": {
    "id": "hKlMQKZNXbOC"
   },
   "outputs": [
    {
     "data": {
      "image/png": "[encoded data removed]",
      "text/plain": [
       "<Figure size 720x720 with 2 Axes>"
      ]
     },
     "metadata": {
      "needs_background": "light"
     },
     "output_type": "display_data"
    }
   ],
   "source": [
    "with torch.no_grad():\n",
    "    for model in models:\n",
    "        y_true,y_pred,_=generate_matrix(model,valloader)\n",
    "        cf_matrix=confusion_matrix(y_true,y_pred)\n",
    "        plt.figure(figsize=(10,10))\n",
    "        sns.heatmap(cf_matrix/np.sum(cf_matrix), annot=True, fmt='.1%', cmap='Blues')"
   ]
  },
  {
   "cell_type": "markdown",
   "metadata": {
    "id": "cc-xUtxzaeVC"
   },
   "source": [
    "## ROC-AUC"
   ]
  },
  {
   "cell_type": "code",
   "execution_count": 21,
   "metadata": {
    "id": "SFFI0r5GumSD"
   },
   "outputs": [],
   "source": [
    "def plot_roc(model,data):\n",
    "    plt.figure()\n",
    "    y_true,_,y_proba=generate_matrix(model,data)\n",
    "    for i in range(10):\n",
    "        fpr, tpr, thresholds = metrics.roc_curve(y_true, y_proba[:,i], pos_label=i)\n",
    "        auc=metrics.auc(fpr,tpr)\n",
    "        auc=float(\"{:.2f}\".format(auc))\n",
    "        label=\"class \"+str(i)+\" AUC Score :\"+str(auc);\n",
    "        plt.plot(fpr,tpr,label=label)\n",
    "    x=np.linspace(0,1,100)\n",
    "    plt.plot(x,x,'k--')\n",
    "    plt.legend(loc='center left', bbox_to_anchor=(1, 0.5))\n",
    "    plt.xlabel(\"FPR\")\n",
    "    plt.ylabel(\"TPR\")\n",
    "    plt.title(\"ROC Curve with AUC\")\n",
    "    plt.grid()\n",
    "    plt.show()"
   ]
  },
  {
   "cell_type": "code",
   "execution_count": 22,
   "metadata": {
    "id": "JCm_62onECdr"
   },
   "outputs": [
    {
     "data": {
      "image/png": "[encoded data removed]",
      "text/plain": [
       "<Figure size 432x288 with 1 Axes>"
      ]
     },
     "metadata": {
      "needs_background": "light"
     },
     "output_type": "display_data"
    }
   ],
   "source": [
    "with torch.no_grad():\n",
    "    for model in models:\n",
    "        plot_roc(model,valloader)"
   ]
  },
  {
   "cell_type": "code",
   "execution_count": null,
   "metadata": {
    "id": "129PSkEpFETs"
   },
   "outputs": [],
   "source": []
  }
 ],
 "metadata": {
  "colab": {
   "collapsed_sections": [
    "mjlZZA2mR2dQ",
    "1SZXZvLiSPnE",
    "Z_244XXUSVXr",
    "yAHEljunSZLl"
   ],
   "name": "OrthDnnNotebook.ipynb",
   "provenance": []
  },
  "kernelspec": {
   "display_name": "Python 3",
   "language": "python",
   "name": "python3"
  },
  "language_info": {
   "codemirror_mode": {
    "name": "ipython",
    "version": 3
   },
   "file_extension": ".py",
   "mimetype": "text/x-python",
   "name": "python",
   "nbconvert_exporter": "python",
   "pygments_lexer": "ipython3",
   "version": "3.7.3"
  },
  "widgets": {
   "application/vnd.jupyter.widget-state+json": {
    "10e8f861729a4467bcc1120ef95dba88": {
     "model_module": "@jupyter-widgets/controls",
     "model_module_version": "1.5.0",
     "model_name": "DescriptionStyleModel",
     "state": {
      "_model_module": "@jupyter-widgets/controls",
      "_model_module_version": "1.5.0",
      "_model_name": "DescriptionStyleModel",
      "_view_count": null,
      "_view_module": "@jupyter-widgets/base",
      "_view_module_version": "1.2.0",
      "_view_name": "StyleView",
      "description_width": ""
     }
    },
    "1f75f81a7c2843869b2aa82b04e90a04": {
     "model_module": "@jupyter-widgets/base",
     "model_module_version": "1.2.0",
     "model_name": "LayoutModel",
     "state": {
      "_model_module": "@jupyter-widgets/base",
      "_model_module_version": "1.2.0",
      "_model_name": "LayoutModel",
      "_view_count": null,
      "_view_module": "@jupyter-widgets/base",
      "_view_module_version": "1.2.0",
      "_view_name": "LayoutView",
      "align_content": null,
      "align_items": null,
      "align_self": null,
      "border": null,
      "bottom": null,
      "display": null,
      "flex": null,
      "flex_flow": null,
      "grid_area": null,
      "grid_auto_columns": null,
      "grid_auto_flow": null,
      "grid_auto_rows": null,
      "grid_column": null,
      "grid_gap": null,
      "grid_row": null,
      "grid_template_areas": null,
      "grid_template_columns": null,
      "grid_template_rows": null,
      "height": null,
      "justify_content": null,
      "justify_items": null,
      "left": null,
      "margin": null,
      "max_height": null,
      "max_width": null,
      "min_height": null,
      "min_width": null,
      "object_fit": null,
      "object_position": null,
      "order": null,
      "overflow": null,
      "overflow_x": null,
      "overflow_y": null,
      "padding": null,
      "right": null,
      "top": null,
      "visibility": null,
      "width": null
     }
    },
    "4177b3e737324842b2b34ff1b9c021ee": {
     "model_module": "@jupyter-widgets/controls",
     "model_module_version": "1.5.0",
     "model_name": "FloatProgressModel",
     "state": {
      "_dom_classes": [],
      "_model_module": "@jupyter-widgets/controls",
      "_model_module_version": "1.5.0",
      "_model_name": "FloatProgressModel",
      "_view_count": null,
      "_view_module": "@jupyter-widgets/controls",
      "_view_module_version": "1.5.0",
      "_view_name": "ProgressView",
      "bar_style": "success",
      "description": "",
      "description_tooltip": null,
      "layout": "IPY_MODEL_7fd8016fa1844e89af8d73d520f6f5ab",
      "max": 170498071,
      "min": 0,
      "orientation": "horizontal",
      "style": "IPY_MODEL_ccab25db62a14e4fb7fae5cfda9b95b6",
      "value": 170498071
     }
    },
    "679ab1910fbb49f783ce6231f9a97e26": {
     "model_module": "@jupyter-widgets/controls",
     "model_module_version": "1.5.0",
     "model_name": "DescriptionStyleModel",
     "state": {
      "_model_module": "@jupyter-widgets/controls",
      "_model_module_version": "1.5.0",
      "_model_name": "DescriptionStyleModel",
      "_view_count": null,
      "_view_module": "@jupyter-widgets/base",
      "_view_module_version": "1.2.0",
      "_view_name": "StyleView",
      "description_width": ""
     }
    },
    "7fd8016fa1844e89af8d73d520f6f5ab": {
     "model_module": "@jupyter-widgets/base",
     "model_module_version": "1.2.0",
     "model_name": "LayoutModel",
     "state": {
      "_model_module": "@jupyter-widgets/base",
      "_model_module_version": "1.2.0",
      "_model_name": "LayoutModel",
      "_view_count": null,
      "_view_module": "@jupyter-widgets/base",
      "_view_module_version": "1.2.0",
      "_view_name": "LayoutView",
      "align_content": null,
      "align_items": null,
      "align_self": null,
      "border": null,
      "bottom": null,
      "display": null,
      "flex": null,
      "flex_flow": null,
      "grid_area": null,
      "grid_auto_columns": null,
      "grid_auto_flow": null,
      "grid_auto_rows": null,
      "grid_column": null,
      "grid_gap": null,
      "grid_row": null,
      "grid_template_areas": null,
      "grid_template_columns": null,
      "grid_template_rows": null,
      "height": null,
      "justify_content": null,
      "justify_items": null,
      "left": null,
      "margin": null,
      "max_height": null,
      "max_width": null,
      "min_height": null,
      "min_width": null,
      "object_fit": null,
      "object_position": null,
      "order": null,
      "overflow": null,
      "overflow_x": null,
      "overflow_y": null,
      "padding": null,
      "right": null,
      "top": null,
      "visibility": null,
      "width": null
     }
    },
    "ac8db4f45dfe49c3b2ce2ccd47b560e9": {
     "model_module": "@jupyter-widgets/controls",
     "model_module_version": "1.5.0",
     "model_name": "HBoxModel",
     "state": {
      "_dom_classes": [],
      "_model_module": "@jupyter-widgets/controls",
      "_model_module_version": "1.5.0",
      "_model_name": "HBoxModel",
      "_view_count": null,
      "_view_module": "@jupyter-widgets/controls",
      "_view_module_version": "1.5.0",
      "_view_name": "HBoxView",
      "box_style": "",
      "children": [
       "IPY_MODEL_bff8239c3a0840a3adadd8305d77f748",
       "IPY_MODEL_4177b3e737324842b2b34ff1b9c021ee",
       "IPY_MODEL_b0c1482e66ac4133a65e521a2c0ae7b4"
      ],
      "layout": "IPY_MODEL_cb83d1f728e14eb5a22fa3c8055435ec"
     }
    },
    "b0c1482e66ac4133a65e521a2c0ae7b4": {
     "model_module": "@jupyter-widgets/controls",
     "model_module_version": "1.5.0",
     "model_name": "HTMLModel",
     "state": {
      "_dom_classes": [],
      "_model_module": "@jupyter-widgets/controls",
      "_model_module_version": "1.5.0",
      "_model_name": "HTMLModel",
      "_view_count": null,
      "_view_module": "@jupyter-widgets/controls",
      "_view_module_version": "1.5.0",
      "_view_name": "HTMLView",
      "description": "",
      "description_tooltip": null,
      "layout": "IPY_MODEL_1f75f81a7c2843869b2aa82b04e90a04",
      "placeholder": "​",
      "style": "IPY_MODEL_10e8f861729a4467bcc1120ef95dba88",
      "value": " 170499072/? [00:05&lt;00:00, 35592765.13it/s]"
     }
    },
    "bff8239c3a0840a3adadd8305d77f748": {
     "model_module": "@jupyter-widgets/controls",
     "model_module_version": "1.5.0",
     "model_name": "HTMLModel",
     "state": {
      "_dom_classes": [],
      "_model_module": "@jupyter-widgets/controls",
      "_model_module_version": "1.5.0",
      "_model_name": "HTMLModel",
      "_view_count": null,
      "_view_module": "@jupyter-widgets/controls",
      "_view_module_version": "1.5.0",
      "_view_name": "HTMLView",
      "description": "",
      "description_tooltip": null,
      "layout": "IPY_MODEL_cfe0d35178234ad48386c5c6d4f83d95",
      "placeholder": "​",
      "style": "IPY_MODEL_679ab1910fbb49f783ce6231f9a97e26",
      "value": ""
     }
    },
    "cb83d1f728e14eb5a22fa3c8055435ec": {
     "model_module": "@jupyter-widgets/base",
     "model_module_version": "1.2.0",
     "model_name": "LayoutModel",
     "state": {
      "_model_module": "@jupyter-widgets/base",
      "_model_module_version": "1.2.0",
      "_model_name": "LayoutModel",
      "_view_count": null,
      "_view_module": "@jupyter-widgets/base",
      "_view_module_version": "1.2.0",
      "_view_name": "LayoutView",
      "align_content": null,
      "align_items": null,
      "align_self": null,
      "border": null,
      "bottom": null,
      "display": null,
      "flex": null,
      "flex_flow": null,
      "grid_area": null,
      "grid_auto_columns": null,
      "grid_auto_flow": null,
      "grid_auto_rows": null,
      "grid_column": null,
      "grid_gap": null,
      "grid_row": null,
      "grid_template_areas": null,
      "grid_template_columns": null,
      "grid_template_rows": null,
      "height": null,
      "justify_content": null,
      "justify_items": null,
      "left": null,
      "margin": null,
      "max_height": null,
      "max_width": null,
      "min_height": null,
      "min_width": null,
      "object_fit": null,
      "object_position": null,
      "order": null,
      "overflow": null,
      "overflow_x": null,
      "overflow_y": null,
      "padding": null,
      "right": null,
      "top": null,
      "visibility": null,
      "width": null
     }
    },
    "ccab25db62a14e4fb7fae5cfda9b95b6": {
     "model_module": "@jupyter-widgets/controls",
     "model_module_version": "1.5.0",
     "model_name": "ProgressStyleModel",
     "state": {
      "_model_module": "@jupyter-widgets/controls",
      "_model_module_version": "1.5.0",
      "_model_name": "ProgressStyleModel",
      "_view_count": null,
      "_view_module": "@jupyter-widgets/base",
      "_view_module_version": "1.2.0",
      "_view_name": "StyleView",
      "bar_color": null,
      "description_width": ""
     }
    },
    "cfe0d35178234ad48386c5c6d4f83d95": {
     "model_module": "@jupyter-widgets/base",
     "model_module_version": "1.2.0",
     "model_name": "LayoutModel",
     "state": {
      "_model_module": "@jupyter-widgets/base",
      "_model_module_version": "1.2.0",
      "_model_name": "LayoutModel",
      "_view_count": null,
      "_view_module": "@jupyter-widgets/base",
      "_view_module_version": "1.2.0",
      "_view_name": "LayoutView",
      "align_content": null,
      "align_items": null,
      "align_self": null,
      "border": null,
      "bottom": null,
      "display": null,
      "flex": null,
      "flex_flow": null,
      "grid_area": null,
      "grid_auto_columns": null,
      "grid_auto_flow": null,
      "grid_auto_rows": null,
      "grid_column": null,
      "grid_gap": null,
      "grid_row": null,
      "grid_template_areas": null,
      "grid_template_columns": null,
      "grid_template_rows": null,
      "height": null,
      "justify_content": null,
      "justify_items": null,
      "left": null,
      "margin": null,
      "max_height": null,
      "max_width": null,
      "min_height": null,
      "min_width": null,
      "object_fit": null,
      "object_position": null,
      "order": null,
      "overflow": null,
      "overflow_x": null,
      "overflow_y": null,
      "padding": null,
      "right": null,
      "top": null,
      "visibility": null,
      "width": null
     }
    }
   }
  }
 },
 "nbformat": 4,
 "nbformat_minor": 1
}
